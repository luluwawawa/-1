{
 "cells": [
  {
   "cell_type": "code",
   "execution_count": 84,
   "metadata": {},
   "outputs": [
    {
     "ename": "ModuleNotFoundError",
     "evalue": "No module named 'graphviz'",
     "output_type": "error",
     "traceback": [
      "\u001b[1;31m---------------------------------------------------------------------------\u001b[0m",
      "\u001b[1;31mModuleNotFoundError\u001b[0m                       Traceback (most recent call last)",
      "\u001b[1;32m<ipython-input-84-866a75ffba21>\u001b[0m in \u001b[0;36m<module>\u001b[1;34m()\u001b[0m\n\u001b[0;32m     12\u001b[0m \u001b[1;32mfrom\u001b[0m \u001b[0mmatplotlib\u001b[0m \u001b[1;32mimport\u001b[0m \u001b[0mpyplot\u001b[0m \u001b[1;32mas\u001b[0m \u001b[0mplt\u001b[0m\u001b[1;33m\u001b[0m\u001b[0m\n\u001b[0;32m     13\u001b[0m \u001b[1;32mimport\u001b[0m \u001b[0mstatsmodels\u001b[0m\u001b[1;33m.\u001b[0m\u001b[0mformula\u001b[0m\u001b[1;33m.\u001b[0m\u001b[0mapi\u001b[0m \u001b[1;32mas\u001b[0m \u001b[0msmf\u001b[0m\u001b[1;33m\u001b[0m\u001b[0m\n\u001b[1;32m---> 14\u001b[1;33m \u001b[1;32mimport\u001b[0m \u001b[0mgraphviz\u001b[0m \u001b[1;32mas\u001b[0m \u001b[0mgr\u001b[0m\u001b[1;33m\u001b[0m\u001b[0m\n\u001b[0m",
      "\u001b[1;31mModuleNotFoundError\u001b[0m: No module named 'graphviz'"
     ]
    }
   ],
   "source": [
    "import warnings\n",
    "warnings.filterwarnings('ignore')\n",
    "\n",
    "#设置绘图风格\n",
    "style.use(\"fivethirtyeight\")\n",
    "\n",
    "import pandas as pd\n",
    "import numpy as np\n",
    "from scipy import stats\n",
    "from matplotlib import style\n",
    "import seaborn as sns\n",
    "from matplotlib import pyplot as plt\n",
    "import statsmodels.formula.api as smf\n",
    "import graphviz as gr\n",
    "\n"
   ]
  },
  {
   "cell_type": "markdown",
   "metadata": {},
   "source": [
    "# 不加任何control的回归"
   ]
  },
  {
   "cell_type": "code",
   "execution_count": 85,
   "metadata": {},
   "outputs": [
    {
     "data": {
      "text/html": [
       "<div>\n",
       "<style scoped>\n",
       "    .dataframe tbody tr th:only-of-type {\n",
       "        vertical-align: middle;\n",
       "    }\n",
       "\n",
       "    .dataframe tbody tr th {\n",
       "        vertical-align: top;\n",
       "    }\n",
       "\n",
       "    .dataframe thead th {\n",
       "        text-align: right;\n",
       "    }\n",
       "</style>\n",
       "<table border=\"1\" class=\"dataframe\">\n",
       "  <thead>\n",
       "    <tr style=\"text-align: right;\">\n",
       "      <th></th>\n",
       "      <th>payments</th>\n",
       "      <th>email</th>\n",
       "      <th>opened</th>\n",
       "      <th>agreement</th>\n",
       "      <th>credit_limit</th>\n",
       "      <th>risk_score</th>\n",
       "    </tr>\n",
       "  </thead>\n",
       "  <tbody>\n",
       "    <tr>\n",
       "      <th>0</th>\n",
       "      <td>740</td>\n",
       "      <td>1</td>\n",
       "      <td>1.0</td>\n",
       "      <td>0.0</td>\n",
       "      <td>2348.495260</td>\n",
       "      <td>0.666752</td>\n",
       "    </tr>\n",
       "    <tr>\n",
       "      <th>1</th>\n",
       "      <td>580</td>\n",
       "      <td>1</td>\n",
       "      <td>1.0</td>\n",
       "      <td>1.0</td>\n",
       "      <td>334.111969</td>\n",
       "      <td>0.207395</td>\n",
       "    </tr>\n",
       "    <tr>\n",
       "      <th>2</th>\n",
       "      <td>600</td>\n",
       "      <td>1</td>\n",
       "      <td>1.0</td>\n",
       "      <td>1.0</td>\n",
       "      <td>1360.660722</td>\n",
       "      <td>0.550479</td>\n",
       "    </tr>\n",
       "    <tr>\n",
       "      <th>3</th>\n",
       "      <td>770</td>\n",
       "      <td>0</td>\n",
       "      <td>0.0</td>\n",
       "      <td>0.0</td>\n",
       "      <td>1531.828576</td>\n",
       "      <td>0.560488</td>\n",
       "    </tr>\n",
       "    <tr>\n",
       "      <th>4</th>\n",
       "      <td>660</td>\n",
       "      <td>0</td>\n",
       "      <td>0.0</td>\n",
       "      <td>0.0</td>\n",
       "      <td>979.855647</td>\n",
       "      <td>0.455140</td>\n",
       "    </tr>\n",
       "  </tbody>\n",
       "</table>\n",
       "</div>"
      ],
      "text/plain": [
       "   payments  email  opened  agreement  credit_limit  risk_score\n",
       "0       740      1     1.0        0.0   2348.495260    0.666752\n",
       "1       580      1     1.0        1.0    334.111969    0.207395\n",
       "2       600      1     1.0        1.0   1360.660722    0.550479\n",
       "3       770      0     0.0        0.0   1531.828576    0.560488\n",
       "4       660      0     0.0        0.0    979.855647    0.455140"
      ]
     },
     "execution_count": 85,
     "metadata": {},
     "output_type": "execute_result"
    }
   ],
   "source": [
    "# 1.读取数据\n",
    "data=pd.read_csv(\"C:/Users/62678/Desktop/Causal/data/collections_email.csv\")\n",
    "data.head()"
   ]
  },
  {
   "cell_type": "code",
   "execution_count": 86,
   "metadata": {},
   "outputs": [
    {
     "name": "stdout",
     "output_type": "stream",
     "text": [
      "   email    payments\n",
      "0      0  669.976434\n",
      "1      1  669.356153\n",
      "ATE is: {-0.6202804021329484}\n",
      "ATE is: -0.6202804021329484\n"
     ]
    }
   ],
   "source": [
    "# 2.计算ATE\n",
    "#先使用手动计算均值（分组求均值）\n",
    "group_mean=data.groupby(\"email\").agg({\"payments\":\"mean\"}).reset_index()  # 先group，再select(agg)--- 出来还是一个表dataframe\n",
    "print(group_mean)\n",
    "# ATE= group_mean.query(\"email==1\").payments or ATE= group_mean.query(\"email==1\")[\"payments\"]  # 先where（query）,再select([])----出来还是一个表\n",
    "# 取值还是要用loc\n",
    "ATE= group_mean.loc[1,\"payments\"]- group_mean.loc[0,\"payments\"]\n",
    "print(f\"ATE is:\",{ATE})\n",
    "print(f\"ATE is: {ATE}\")"
   ]
  },
  {
   "cell_type": "code",
   "execution_count": 87,
   "metadata": {},
   "outputs": [
    {
     "data": {
      "text/html": [
       "<table class=\"simpletable\">\n",
       "<tr>\n",
       "      <td></td>         <th>coef</th>     <th>std err</th>      <th>t</th>      <th>P>|t|</th>  <th>[0.025</th>    <th>0.975]</th>  \n",
       "</tr>\n",
       "<tr>\n",
       "  <th>Intercept</th> <td>  669.9764</td> <td>    2.061</td> <td>  325.116</td> <td> 0.000</td> <td>  665.937</td> <td>  674.016</td>\n",
       "</tr>\n",
       "<tr>\n",
       "  <th>email</th>     <td>   -0.6203</td> <td>    2.941</td> <td>   -0.211</td> <td> 0.833</td> <td>   -6.387</td> <td>    5.146</td>\n",
       "</tr>\n",
       "</table>"
      ],
      "text/plain": [
       "<class 'statsmodels.iolib.table.SimpleTable'>"
      ]
     },
     "execution_count": 87,
     "metadata": {},
     "output_type": "execute_result"
    }
   ],
   "source": [
    "#再使用线性回归\n",
    "model_1=smf.ols(\"payments~ email\",data=data).fit()\n",
    "model_1.summary().tables[1]"
   ]
  },
  {
   "cell_type": "code",
   "execution_count": 83,
   "metadata": {},
   "outputs": [
    {
     "data": {
      "text/plain": [
       "Text(0.5,1,'Payments~email')"
      ]
     },
     "execution_count": 83,
     "metadata": {},
     "output_type": "execute_result"
    },
    {
     "data": {
      "text/plain": [
       "<Figure size 576x288 with 0 Axes>"
      ]
     },
     "metadata": {},
     "output_type": "display_data"
    },
    {
     "data": {
      "image/png": "[encoded data removed]",
      "text/plain": [
       "<Figure size 576x288 with 1 Axes>"
      ]
     },
     "metadata": {},
     "output_type": "display_data"
    }
   ],
   "source": [
    "# 3.查看下散点图,和线性回归的图\n",
    "plt.figure(figsize=(8,4))\n",
    "#sns.scatterplot(\"email\",\"payments\",data=data,s=50)\n",
    "\n",
    "# 给Email加一点随机噪声（就是让Email+随机数）\n",
    "np.random.seed(100)\n",
    "new_email=data.email + np.random.normal(0,0.01,size=len(data.email))  # 让email 在 0 和 1 附近波动\n",
    "data=data.assign(new_email=new_email)  # assign 可以创建新行，也可以赋值\n",
    "data.head()\n",
    "\n",
    "# 先画出x,y 的散点图\n",
    "plt.figure(figsize=(8,4))\n",
    "sns.scatterplot(\"new_email\",\"payments\",data=data,s=50)\n",
    "\n",
    "# 再画出线性回归曲线\n",
    "x=np.linspace(-0.2,1.2) # -0.2 到1.2之间的等比数列(arry)\n",
    "y=model_1.params[0]+model_1.params[1]*x   \n",
    "plt.plot(x,y,c=\"C1\")  # s=size. c=color\n",
    "\n",
    "# 加图例\n",
    "plt.xlabel(\"Email\")\n",
    "plt.ylabel(\"Payments\")\n",
    "plt.title(\"Payments~email\")"
   ]
  },
  {
   "cell_type": "markdown",
   "metadata": {},
   "source": [
    "# 1.加入好的confunder（confunder影响T , 也影响 Y）"
   ]
  },
  {
   "cell_type": "code",
   "execution_count": null,
   "metadata": {},
   "outputs": [],
   "source": [
    "# 线性回归模型的参数(x,y,y_hat,resid,beta0,beta1)\n",
    "#model_email.fittedvalues\n",
    "#model_email.resid\n",
    "#model_email.params[0]\n",
    "#model_email.params[1]"
   ]
  },
  {
   "cell_type": "code",
   "execution_count": 105,
   "metadata": {},
   "outputs": [
    {
     "name": "stdout",
     "output_type": "stream",
     "text": [
      "================================================================================\n",
      "                   coef    std err          t      P>|t|      [0.025      0.975]\n",
      "--------------------------------------------------------------------------------\n",
      "Intercept        0.3548      0.064      5.515      0.000       0.229       0.481\n",
      "credit_limit    -0.0002   5.32e-05     -3.490      0.000      -0.000   -8.14e-05\n",
      "risk_score       0.7444      0.255      2.919      0.004       0.245       1.244\n",
      "================================================================================\n",
      "================================================================================\n",
      "                   coef    std err          t      P>|t|      [0.025      0.975]\n",
      "--------------------------------------------------------------------------------\n",
      "Intercept      492.4370      9.689     50.825      0.000     473.443     511.431\n",
      "credit_limit     0.1502      0.008     18.747      0.000       0.135       0.166\n",
      "risk_score      -4.7536     38.404     -0.124      0.901     -80.042      70.535\n",
      "================================================================================\n",
      "   res_payments  res_email\n",
      "0   -102.119305   0.585020\n",
      "1     38.349917   0.552893\n",
      "2    -94.253934   0.488132\n",
      "3     50.076379  -0.487533\n",
      "4     22.507264  -0.511614\n",
      "==============================================================================\n",
      "                 coef    std err          t      P>|t|      [0.025      0.975]\n",
      "------------------------------------------------------------------------------\n",
      "Intercept  -1.118e-13      1.063  -1.05e-13      1.000      -2.084       2.084\n",
      "res_email      4.4304      2.129      2.080      0.038       0.256       8.605\n",
      "==============================================================================\n"
     ]
    }
   ],
   "source": [
    "# 1. 加入control分步进行回归\n",
    "# 先检测 （control 对于T  自变量的解释 T~ control）\n",
    "model_email=smf.ols(\"email~credit_limit + risk_score\",data=data).fit()\n",
    "print(model_email.summary().tables[1])\n",
    "\n",
    "# 再检测（control对于 Y 的解释力 Y ~ control）\n",
    "model_payments=smf.ols(\"payments~credit_limit + risk_score\",data=data).fit()\n",
    "print(model_payments.summary().tables[1])\n",
    "\n",
    "# 将两个模型的residual 存为dataframe\n",
    "residuals=pd.DataFrame(dict(res_payments=model_payments.resid,res_email=model_email.resid))\n",
    "print(residuals.head())\n",
    "\n",
    "#将两个resid 进行回归\n",
    "model_treatment=smf.ols(\"res_payments~ res_email\",data=residuals).fit()\n",
    "print(model_treatment.summary().tables[1])"
   ]
  },
  {
   "cell_type": "code",
   "execution_count": 109,
   "metadata": {},
   "outputs": [
    {
     "name": "stdout",
     "output_type": "stream",
     "text": [
      "Email var 0.24991536000001294\n",
      "Resid Email var 0.24918421069820043\n",
      "Payment var 10807.61241599994\n",
      "Resid Payment var 5652.453558466199\n"
     ]
    }
   ],
   "source": [
    "# 查看一些方差变化\n",
    "print(\"Email var\", np.var(data.email))\n",
    "print(\"Resid Email var\", np.var(residuals.res_email))\n",
    "\n",
    "print(\"Payment var\", np.var(data.payments))\n",
    "print(\"Resid Payment var\", np.var(residuals.res_payments))"
   ]
  },
  {
   "cell_type": "code",
   "execution_count": 116,
   "metadata": {},
   "outputs": [
    {
     "data": {
      "text/plain": [
       "[<matplotlib.lines.Line2D at 0x274f449a1d0>]"
      ]
     },
     "execution_count": 116,
     "metadata": {},
     "output_type": "execute_result"
    },
    {
     "data": {
      "image/png": "[encoded data removed]",
      "text/plain": [
       "<Figure size 576x288 with 1 Axes>"
      ]
     },
     "metadata": {},
     "output_type": "display_data"
    }
   ],
   "source": [
    "# 画图查看一下新的这个residual回归\n",
    "plt.figure(figsize=(8,4))\n",
    "# 原始数据，散点图(x,y)\n",
    "sns.scatterplot(\"res_email\",\"res_payments\",data=residuals)  \n",
    "# 线性回归数据\n",
    "residuals=residuals.assign(y_hat=model_treatment.fittedvalues)\n",
    "plt.plot(\"res_email\",\"y_hat\",data=residuals,c=\"C1\")\n",
    "#自己构造线性回归数据\n",
    "x=np.linspace(-0.7,1)\n",
    "y=model_treatment.params[0]+model_treatment.params[1]*x\n",
    "plt.plot(x,y,c=\"C2\")\n"
   ]
  },
  {
   "cell_type": "code",
   "execution_count": 117,
   "metadata": {},
   "outputs": [
    {
     "name": "stdout",
     "output_type": "stream",
     "text": [
      "================================================================================\n",
      "                   coef    std err          t      P>|t|      [0.025      0.975]\n",
      "--------------------------------------------------------------------------------\n",
      "Intercept      490.8653      9.715     50.527      0.000     471.820     509.911\n",
      "email            4.4304      2.130      2.080      0.038       0.255       8.606\n",
      "credit_limit     0.1511      0.008     18.833      0.000       0.135       0.167\n",
      "risk_score      -8.0516     38.424     -0.210      0.834     -83.379      67.276\n",
      "================================================================================\n"
     ]
    }
   ],
   "source": [
    "# 2. 加入control 一步到位\n",
    "model_2=smf.ols(\"payments ~ email + credit_limit + risk_score\", data= data).fit()\n",
    "print(model_2.summary().tables[1])"
   ]
  },
  {
   "cell_type": "markdown",
   "metadata": {},
   "source": [
    "# 2. 加入一些有害的control"
   ]
  },
  {
   "cell_type": "code",
   "execution_count": 118,
   "metadata": {},
   "outputs": [
    {
     "data": {
      "text/html": [
       "<div>\n",
       "<style scoped>\n",
       "    .dataframe tbody tr th:only-of-type {\n",
       "        vertical-align: middle;\n",
       "    }\n",
       "\n",
       "    .dataframe tbody tr th {\n",
       "        vertical-align: top;\n",
       "    }\n",
       "\n",
       "    .dataframe thead th {\n",
       "        text-align: right;\n",
       "    }\n",
       "</style>\n",
       "<table border=\"1\" class=\"dataframe\">\n",
       "  <thead>\n",
       "    <tr style=\"text-align: right;\">\n",
       "      <th></th>\n",
       "      <th>hospital</th>\n",
       "      <th>treatment</th>\n",
       "      <th>severity</th>\n",
       "      <th>days</th>\n",
       "    </tr>\n",
       "  </thead>\n",
       "  <tbody>\n",
       "    <tr>\n",
       "      <th>0</th>\n",
       "      <td>1</td>\n",
       "      <td>1</td>\n",
       "      <td>29.686618</td>\n",
       "      <td>82</td>\n",
       "    </tr>\n",
       "    <tr>\n",
       "      <th>1</th>\n",
       "      <td>1</td>\n",
       "      <td>1</td>\n",
       "      <td>20.050340</td>\n",
       "      <td>57</td>\n",
       "    </tr>\n",
       "    <tr>\n",
       "      <th>2</th>\n",
       "      <td>1</td>\n",
       "      <td>1</td>\n",
       "      <td>20.302399</td>\n",
       "      <td>49</td>\n",
       "    </tr>\n",
       "    <tr>\n",
       "      <th>3</th>\n",
       "      <td>0</td>\n",
       "      <td>0</td>\n",
       "      <td>10.603118</td>\n",
       "      <td>44</td>\n",
       "    </tr>\n",
       "    <tr>\n",
       "      <th>4</th>\n",
       "      <td>0</td>\n",
       "      <td>0</td>\n",
       "      <td>8.332793</td>\n",
       "      <td>15</td>\n",
       "    </tr>\n",
       "  </tbody>\n",
       "</table>\n",
       "</div>"
      ],
      "text/plain": [
       "   hospital  treatment   severity  days\n",
       "0         1          1  29.686618    82\n",
       "1         1          1  20.050340    57\n",
       "2         1          1  20.302399    49\n",
       "3         0          0  10.603118    44\n",
       "4         0          0   8.332793    15"
      ]
     },
     "execution_count": 118,
     "metadata": {},
     "output_type": "execute_result"
    }
   ],
   "source": [
    "# 1.读取数据\n",
    "hospital=pd.read_csv(\"C:/Users/62678/Desktop/Causal/data/hospital_treatment.csv\")\n",
    "hospital.head()"
   ]
  },
  {
   "cell_type": "code",
   "execution_count": 120,
   "metadata": {},
   "outputs": [
    {
     "name": "stdout",
     "output_type": "stream",
     "text": [
      "==============================================================================\n",
      "                 coef    std err          t      P>|t|      [0.025      0.975]\n",
      "------------------------------------------------------------------------------\n",
      "Intercept     33.2667      2.662     12.498      0.000      27.968      38.566\n",
      "treatment     14.1533      3.367      4.204      0.000       7.451      20.856\n",
      "==============================================================================\n"
     ]
    }
   ],
   "source": [
    "# 2. 进行简单回归\n",
    "hosp_1=smf.ols(\"days ~ treatment\", data=hospital).fit()\n",
    "print(hosp_1.summary().tables[1])\n"
   ]
  },
  {
   "cell_type": "markdown",
   "metadata": {},
   "source": [
    "#结果发现：治疗反而会增加住院天数。 这可能是由于我们是在两家不同的医院来进行数据采集的，不同的医院有不同的严重程度。\n",
    "#现在要分开医院来回归"
   ]
  },
  {
   "cell_type": "code",
   "execution_count": 125,
   "metadata": {},
   "outputs": [
    {
     "name": "stdout",
     "output_type": "stream",
     "text": [
      "==============================================================================\n",
      "                 coef    std err          t      P>|t|      [0.025      0.975]\n",
      "------------------------------------------------------------------------------\n",
      "Intercept     59.0000      6.747      8.745      0.000      45.442      72.558\n",
      "treatment    -10.3958      6.955     -1.495      0.141     -24.371       3.580\n",
      "==============================================================================\n",
      "==============================================================================\n",
      "                 coef    std err          t      P>|t|      [0.025      0.975]\n",
      "------------------------------------------------------------------------------\n",
      "Intercept     30.4074      2.868     10.602      0.000      24.523      36.292\n",
      "treatment    -11.4074     10.921     -1.045      0.306     -33.816      11.001\n",
      "==============================================================================\n"
     ]
    }
   ],
   "source": [
    "hosp_2=smf.ols(\"days~ treatment\", data=hospital.query(\"hospital==1\")).fit()\n",
    "print(hosp_2.summary().tables[1])\n",
    "\n",
    "hosp_3=smf.ols(\"days~ treatment\", data=hospital.query(\"hospital==0\")).fit()\n",
    "print(hosp_3.summary().tables[1])"
   ]
  },
  {
   "cell_type": "markdown",
   "metadata": {},
   "source": [
    "#分开医院回归以后，发现结果正常了：治疗会减少住院天数。\n",
    "#但是由于分开回归，数据点减少了，则不显著。"
   ]
  },
  {
   "cell_type": "code",
   "execution_count": 144,
   "metadata": {},
   "outputs": [
    {
     "name": "stdout",
     "output_type": "stream",
     "text": [
      "子分类估计器： -10.76252893518518\n",
      "回归估计器： -10.939038377721188\n",
      "==============================================================================\n",
      "                 coef    std err          t      P>|t|      [0.025      0.975]\n",
      "------------------------------------------------------------------------------\n",
      "Intercept     30.3654      2.419     12.555      0.000      25.549      35.182\n",
      "treatment    -10.7978      5.930     -1.821      0.073     -22.607       1.011\n",
      "hospital      29.0130      5.972      4.858      0.000      17.120      40.906\n",
      "==============================================================================\n"
     ]
    }
   ],
   "source": [
    "# 子分类估计器所使用的权重是 该组的个体数\n",
    "t1=len(hospital.query(\"hospital==1\"))\n",
    "t2=len(hospital.query(\"hospital==0\"))\n",
    "ATE1=(hosp_2.params[1]* t1 + hosp_3.params[1]* t2)/(t1+t2)\n",
    "print(\"子分类估计器：\",ATE1)\n",
    "\n",
    "# 回归估计器用的是该组的 T 的方差有关的一个权重\n",
    "q1= np.var(hospital.query(\"hospital==1\").treatment)\n",
    "q2= np.var(hospital.query(\"hospital==0\").treatment)\n",
    "ATE2=(hosp_2.params[1]* q1 + hosp_3.params[1]* q2)/(q1+q2)\n",
    "print(\"回归估计器：\",ATE2)\n",
    "\n",
    "# 如果我们把hospiital 加入为control\n",
    "hosp_4=smf.ols(\"days~ treatment + hospital \", data=hospital).fit()\n",
    "print(hosp_4.summary().tables[1])"
   ]
  },
  {
   "cell_type": "code",
   "execution_count": 145,
   "metadata": {},
   "outputs": [
    {
     "data": {
      "text/html": [
       "<table class=\"simpletable\">\n",
       "<tr>\n",
       "      <td></td>         <th>coef</th>     <th>std err</th>      <th>t</th>      <th>P>|t|</th>  <th>[0.025</th>    <th>0.975]</th>  \n",
       "</tr>\n",
       "<tr>\n",
       "  <th>Intercept</th> <td>   11.6641</td> <td>    2.000</td> <td>    5.832</td> <td> 0.000</td> <td>    7.681</td> <td>   15.647</td>\n",
       "</tr>\n",
       "<tr>\n",
       "  <th>treatment</th> <td>   -7.5912</td> <td>    2.269</td> <td>   -3.345</td> <td> 0.001</td> <td>  -12.110</td> <td>   -3.073</td>\n",
       "</tr>\n",
       "<tr>\n",
       "  <th>severity</th>  <td>    2.2741</td> <td>    0.154</td> <td>   14.793</td> <td> 0.000</td> <td>    1.968</td> <td>    2.580</td>\n",
       "</tr>\n",
       "</table>"
      ],
      "text/plain": [
       "<class 'statsmodels.iolib.table.SimpleTable'>"
      ]
     },
     "execution_count": 145,
     "metadata": {},
     "output_type": "execute_result"
    }
   ],
   "source": [
    "# 3. 尝试加入severity(假设这是正确的 confunder)\n",
    "hosp_4=smf.ols(\"days~ treatment + severity\",data=hospital).fit()\n",
    "hosp_4.summary().tables[1]"
   ]
  },
  {
   "cell_type": "code",
   "execution_count": 146,
   "metadata": {},
   "outputs": [
    {
     "data": {
      "text/html": [
       "<table class=\"simpletable\">\n",
       "<tr>\n",
       "      <td></td>         <th>coef</th>     <th>std err</th>      <th>t</th>      <th>P>|t|</th>  <th>[0.025</th>    <th>0.975]</th>  \n",
       "</tr>\n",
       "<tr>\n",
       "  <th>Intercept</th> <td>   11.0111</td> <td>    2.118</td> <td>    5.198</td> <td> 0.000</td> <td>    6.792</td> <td>   15.230</td>\n",
       "</tr>\n",
       "<tr>\n",
       "  <th>treatment</th> <td>   -5.0945</td> <td>    3.492</td> <td>   -1.459</td> <td> 0.149</td> <td>  -12.049</td> <td>    1.861</td>\n",
       "</tr>\n",
       "<tr>\n",
       "  <th>severity</th>  <td>    2.3865</td> <td>    0.195</td> <td>   12.251</td> <td> 0.000</td> <td>    1.999</td> <td>    2.774</td>\n",
       "</tr>\n",
       "<tr>\n",
       "  <th>hospital</th>  <td>   -4.1535</td> <td>    4.413</td> <td>   -0.941</td> <td> 0.350</td> <td>  -12.943</td> <td>    4.636</td>\n",
       "</tr>\n",
       "</table>"
      ],
      "text/plain": [
       "<class 'statsmodels.iolib.table.SimpleTable'>"
      ]
     },
     "execution_count": 146,
     "metadata": {},
     "output_type": "execute_result"
    }
   ],
   "source": [
    "# 此时再加入hospital\n",
    "hosp_5=smf.ols(\"days~ treatment + severity + hospital\",data=hospital).fit()\n",
    "hosp_5.summary().tables[1]"
   ]
  },
  {
   "cell_type": "markdown",
   "metadata": {},
   "source": [
    "#发现结果不对了。treatment 的SE变大 从 2.269变为了3.3492.\n",
    "#分两步来看上面的这个结果。"
   ]
  },
  {
   "cell_type": "code",
   "execution_count": 148,
   "metadata": {},
   "outputs": [
    {
     "data": {
      "text/html": [
       "<table class=\"simpletable\">\n",
       "<tr>\n",
       "        <td></td>           <th>coef</th>     <th>std err</th>      <th>t</th>      <th>P>|t|</th>  <th>[0.025</th>    <th>0.975]</th>  \n",
       "</tr>\n",
       "<tr>\n",
       "  <th>Intercept</th>     <td> 3.707e-14</td> <td>    0.827</td> <td> 4.48e-14</td> <td> 1.000</td> <td>   -1.646</td> <td>    1.646</td>\n",
       "</tr>\n",
       "<tr>\n",
       "  <th>res_treatment</th> <td>   -5.0945</td> <td>    3.447</td> <td>   -1.478</td> <td> 0.143</td> <td>  -11.957</td> <td>    1.768</td>\n",
       "</tr>\n",
       "</table>"
      ],
      "text/plain": [
       "<class 'statsmodels.iolib.table.SimpleTable'>"
      ]
     },
     "execution_count": 148,
     "metadata": {},
     "output_type": "execute_result"
    }
   ],
   "source": [
    "# 对于这两个control（severity + hospital） 分两步来看\n",
    "model_treatment=smf.ols(\"treatment ~severity + hospital\",data=hospital).fit()\n",
    "model_days=smf.ols(\"days ~severity + hospital\",data=hospital).fit()\n",
    "\n",
    "residuals=pd.DataFrame(dict(res_days=model_days.resid,res_treatment=model_treatment.resid))\n",
    "\n",
    "hosp_5=smf.ols(\"res_days~ res_treatment\",data=residuals).fit()\n",
    "hosp_5.summary().tables[1]"
   ]
  },
  {
   "cell_type": "code",
   "execution_count": 150,
   "metadata": {},
   "outputs": [
    {
     "name": "stdout",
     "output_type": "stream",
     "text": [
      "Treatment var: 0.234375\n",
      "Residual Treatment var: 0.057529091872119076\n",
      "Days var: 254.17484375000004\n",
      "Residual Days var: 54.80915160573126\n"
     ]
    }
   ],
   "source": [
    "# 检查下Y,X的方差\n",
    "print(\"Treatment var:\",np.var(hospital.treatment))\n",
    "print(\"Residual Treatment var:\",np.var(residuals.res_treatment))\n",
    "\n",
    "print(\"Days var:\",np.var(hospital.days))\n",
    "print(\"Residual Days var:\",np.var(residuals.res_days))"
   ]
  },
  {
   "cell_type": "markdown",
   "metadata": {},
   "source": [
    "# 总之，当加入的control 使得方差变大不显著，则肯定是坏的control"
   ]
  },
  {
   "cell_type": "code",
   "execution_count": 156,
   "metadata": {},
   "outputs": [
    {
     "data": {
      "text/plain": [
       "(array([700.,  22.,  73., 115., 143., 148., 132., 117.,  84.,  58.,  40.,\n",
       "         29.,  16.,   8.,   6.,   5.,   1.,   1.,   1.,   1.]),\n",
       " array([  0.        ,  40.18870849,  80.37741699, 120.56612548,\n",
       "        160.75483397, 200.94354246, 241.13225096, 281.32095945,\n",
       "        321.50966794, 361.69837644, 401.88708493, 442.07579342,\n",
       "        482.26450191, 522.45321041, 562.6419189 , 602.83062739,\n",
       "        643.01933588, 683.20804438, 723.39675287, 763.58546136,\n",
       "        803.77416986]),\n",
       " <a list of 20 Patch objects>)"
      ]
     },
     "execution_count": 156,
     "metadata": {},
     "output_type": "execute_result"
    },
    {
     "data": {
      "image/png": "[encoded data removed]",
      "text/plain": [
       "<Figure size 432x288 with 1 Axes>"
      ]
     },
     "metadata": {},
     "output_type": "display_data"
    }
   ],
   "source": [
    "# 画条形统计图\n",
    "data=np.concatenate([np.random.gamma(5,50,1000),np.zeros(700)]) #将1000个gamma分步的随机数和700个0连接\n",
    "plt.hist(data,bins=20)"
   ]
  },
  {
   "cell_type": "code",
   "execution_count": null,
   "metadata": {},
   "outputs": [],
   "source": []
  },
  {
   "cell_type": "code",
   "execution_count": null,
   "metadata": {},
   "outputs": [],
   "source": []
  },
  {
   "cell_type": "code",
   "execution_count": null,
   "metadata": {},
   "outputs": [],
   "source": []
  },
  {
   "cell_type": "code",
   "execution_count": null,
   "metadata": {},
   "outputs": [],
   "source": []
  }
 ],
 "metadata": {
  "kernelspec": {
   "display_name": "Python 3",
   "language": "python",
   "name": "python3"
  },
  "language_info": {
   "codemirror_mode": {
    "name": "ipython",
    "version": 3
   },
   "file_extension": ".py",
   "mimetype": "text/x-python",
   "name": "python",
   "nbconvert_exporter": "python",
   "pygments_lexer": "ipython3",
   "version": "3.7.0"
  }
 },
 "nbformat": 4,
 "nbformat_minor": 2
}
