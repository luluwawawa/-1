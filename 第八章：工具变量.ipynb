{
 "cells": [
  {
   "cell_type": "code",
   "execution_count": 2,
   "metadata": {},
   "outputs": [],
   "source": [
    "import warnings\n",
    "warnings.filterwarnings('ignore')\n",
    "\n",
    "#读取基本包\n",
    "import pandas as pd\n",
    "import numpy as np\n",
    "from scipy import stats\n",
    "import seaborn as sns\n",
    "from matplotlib import pyplot as plt\n",
    "from matplotlib import style\n",
    "\n",
    "#设置绘图风格\n",
    "style.use(\"fivethirtyeight\")\n",
    "\n",
    "#读取线性回归包\n",
    "import statsmodels.formula.api as smf\n",
    "\n",
    "#读取IV包\n",
    "from linearmodels.iv import IV2SLS"
   ]
  },
  {
   "cell_type": "code",
   "execution_count": 3,
   "metadata": {},
   "outputs": [
    {
     "data": {
      "text/html": [
       "<div>\n",
       "<style scoped>\n",
       "    .dataframe tbody tr th:only-of-type {\n",
       "        vertical-align: middle;\n",
       "    }\n",
       "\n",
       "    .dataframe tbody tr th {\n",
       "        vertical-align: top;\n",
       "    }\n",
       "\n",
       "    .dataframe thead th {\n",
       "        text-align: right;\n",
       "    }\n",
       "</style>\n",
       "<table border=\"1\" class=\"dataframe\">\n",
       "  <thead>\n",
       "    <tr style=\"text-align: right;\">\n",
       "      <th></th>\n",
       "      <th>log_wage</th>\n",
       "      <th>years_of_schooling</th>\n",
       "      <th>year_of_birth</th>\n",
       "      <th>quarter_of_birth</th>\n",
       "      <th>state_of_birth</th>\n",
       "    </tr>\n",
       "  </thead>\n",
       "  <tbody>\n",
       "    <tr>\n",
       "      <th>0</th>\n",
       "      <td>5.790019</td>\n",
       "      <td>12.0</td>\n",
       "      <td>30.0</td>\n",
       "      <td>1.0</td>\n",
       "      <td>45.0</td>\n",
       "    </tr>\n",
       "    <tr>\n",
       "      <th>1</th>\n",
       "      <td>5.952494</td>\n",
       "      <td>11.0</td>\n",
       "      <td>30.0</td>\n",
       "      <td>1.0</td>\n",
       "      <td>45.0</td>\n",
       "    </tr>\n",
       "    <tr>\n",
       "      <th>2</th>\n",
       "      <td>5.315949</td>\n",
       "      <td>12.0</td>\n",
       "      <td>30.0</td>\n",
       "      <td>1.0</td>\n",
       "      <td>45.0</td>\n",
       "    </tr>\n",
       "    <tr>\n",
       "      <th>3</th>\n",
       "      <td>5.595926</td>\n",
       "      <td>12.0</td>\n",
       "      <td>30.0</td>\n",
       "      <td>1.0</td>\n",
       "      <td>45.0</td>\n",
       "    </tr>\n",
       "    <tr>\n",
       "      <th>4</th>\n",
       "      <td>6.068915</td>\n",
       "      <td>12.0</td>\n",
       "      <td>30.0</td>\n",
       "      <td>1.0</td>\n",
       "      <td>37.0</td>\n",
       "    </tr>\n",
       "  </tbody>\n",
       "</table>\n",
       "</div>"
      ],
      "text/plain": [
       "   log_wage  years_of_schooling  year_of_birth  quarter_of_birth  \\\n",
       "0  5.790019                12.0           30.0               1.0   \n",
       "1  5.952494                11.0           30.0               1.0   \n",
       "2  5.315949                12.0           30.0               1.0   \n",
       "3  5.595926                12.0           30.0               1.0   \n",
       "4  6.068915                12.0           30.0               1.0   \n",
       "\n",
       "   state_of_birth  \n",
       "0            45.0  \n",
       "1            45.0  \n",
       "2            45.0  \n",
       "3            45.0  \n",
       "4            37.0  "
      ]
     },
     "execution_count": 3,
     "metadata": {},
     "output_type": "execute_result"
    }
   ],
   "source": [
    "# 1.读取数据\n",
    "data=pd.read_csv(\"C:/Users/62678/Desktop/Causal/data/ak91.csv\")\n",
    "data.head()\n",
    "# Y: log_wage , T: years_of_schooling , Z: quarter_of_birth"
   ]
  },
  {
   "cell_type": "code",
   "execution_count": 4,
   "metadata": {},
   "outputs": [
    {
     "name": "stdout",
     "output_type": "stream",
     "text": [
      "   year_of_birth  quarter_of_birth  log_wage  years_of_schooling\n",
      "0           30.0               1.0  5.889133           12.280405\n",
      "1           30.0               2.0  5.898007           12.428418\n",
      "2           30.0               3.0  5.909365           12.491860\n",
      "3           30.0               4.0  5.914354           12.624675\n",
      "4           31.0               1.0  5.902136           12.540434\n",
      "   year_of_birth  quarter_of_birth  log_wage  years_of_schooling  \\\n",
      "0           30.0               1.0  5.889133           12.280405   \n",
      "1           30.0               2.0  5.898007           12.428418   \n",
      "2           30.0               3.0  5.909365           12.491860   \n",
      "3           30.0               4.0  5.914354           12.624675   \n",
      "4           31.0               1.0  5.902136           12.540434   \n",
      "\n",
      "   time_of_birth  \n",
      "0          30.25  \n",
      "1          30.50  \n",
      "2          30.75  \n",
      "3          31.00  \n",
      "4          31.25  \n"
     ]
    }
   ],
   "source": [
    "# 2.第一阶段(cov(T,Z)!=0)\n",
    "group_data= data.groupby([\"year_of_birth\",\"quarter_of_birth\"]).agg({\"log_wage\":\"mean\",\"years_of_schooling\":\"mean\"}).reset_index()\n",
    "print(group_data.head())\n",
    "\n",
    "group_data=group_data.assign(time_of_birth= lambda d: d[\"year_of_birth\"] + (d[\"quarter_of_birth\"])/4)\n",
    "print(group_data.head())"
   ]
  },
  {
   "cell_type": "code",
   "execution_count": 5,
   "metadata": {},
   "outputs": [
    {
     "data": {
      "text/plain": [
       "Text(0.5,1,'Years of education bu quarter of birth(first stage)')"
      ]
     },
     "execution_count": 5,
     "metadata": {},
     "output_type": "execute_result"
    },
    {
     "data": {
      "image/png": "[encoded data removed]",
      "text/plain": [
       "<Figure size 1080x432 with 1 Axes>"
      ]
     },
     "metadata": {
      "needs_background": "light"
     },
     "output_type": "display_data"
    }
   ],
   "source": [
    "# 画图(T~ Z)\n",
    "plt.figure(figsize=(15,6))\n",
    "plt.plot(group_data[\"time_of_birth\"],group_data[\"years_of_schooling\"],zorder=-1)\n",
    "\n",
    "for q in range(1,5):\n",
    "    x=group_data.query(f\"quarter_of_birth=={q}\")[\"time_of_birth\"]\n",
    "    y=group_data.query(f\"quarter_of_birth=={q}\")[\"years_of_schooling\"]\n",
    "    plt.scatter(x,y,s=200,c=f\"C{q}\",marker=\"s\")     # # marker=s, 用正方形标记\n",
    "    plt.scatter(x,y,s=100,c=f\"white\",marker=f\"${q}$\")  # marker= q, 用数字标记\n",
    "\n",
    "plt.xlabel(\"Year of Birth\")\n",
    "plt.ylabel(\"Years of schlooling\")\n",
    "plt.title(\"Years of education bu quarter of birth(first stage)\")"
   ]
  },
  {
   "cell_type": "code",
   "execution_count": 6,
   "metadata": {},
   "outputs": [
    {
     "name": "stdout",
     "output_type": "stream",
     "text": [
      "=============================================================================================\n",
      "                                coef    std err          t      P>|t|      [0.025      0.975]\n",
      "---------------------------------------------------------------------------------------------\n",
      "Intercept                    11.3370      0.038    295.142      0.000      11.262      11.412\n",
      "C(year_of_birth)[T.31.0]      0.1432      0.025      5.687      0.000       0.094       0.193\n",
      "C(year_of_birth)[T.32.0]      0.2110      0.025      8.490      0.000       0.162       0.260\n",
      "C(year_of_birth)[T.33.0]      0.2708      0.025     10.767      0.000       0.222       0.320\n",
      "C(year_of_birth)[T.34.0]      0.3097      0.025     12.432      0.000       0.261       0.359\n",
      "C(year_of_birth)[T.35.0]      0.3750      0.025     15.154      0.000       0.326       0.423\n",
      "C(year_of_birth)[T.36.0]      0.4202      0.025     16.968      0.000       0.372       0.469\n",
      "C(year_of_birth)[T.37.0]      0.4810      0.025     19.614      0.000       0.433       0.529\n",
      "C(year_of_birth)[T.38.0]      0.5626      0.024     23.146      0.000       0.515       0.610\n",
      "C(year_of_birth)[T.39.0]      0.6019      0.024     24.858      0.000       0.554       0.649\n",
      "C(state_of_birth)[T.2.0]      1.7689      0.362      4.880      0.000       1.058       2.479\n",
      "C(state_of_birth)[T.4.0]      1.3894      0.104     13.423      0.000       1.187       1.592\n",
      "C(state_of_birth)[T.5.0]      0.1471      0.054      2.712      0.007       0.041       0.253\n",
      "C(state_of_birth)[T.6.0]      2.1439      0.046     46.712      0.000       2.054       2.234\n",
      "C(state_of_birth)[T.8.0]      1.6129      0.069     23.297      0.000       1.477       1.749\n",
      "C(state_of_birth)[T.9.0]      1.6128      0.062     26.056      0.000       1.491       1.734\n",
      "C(state_of_birth)[T.10.0]     0.5748      0.135      4.265      0.000       0.311       0.839\n",
      "C(state_of_birth)[T.11.0]     2.1077      0.097     21.741      0.000       1.918       2.298\n",
      "C(state_of_birth)[T.12.0]     0.9623      0.062     15.642      0.000       0.842       1.083\n",
      "C(state_of_birth)[T.13.0]    -0.2097      0.049     -4.283      0.000      -0.306      -0.114\n",
      "C(state_of_birth)[T.15.0]     1.5123      0.206      7.339      0.000       1.108       1.916\n",
      "C(state_of_birth)[T.16.0]     1.8251      0.087     21.018      0.000       1.655       1.995\n",
      "C(state_of_birth)[T.17.0]     1.6432      0.042     39.368      0.000       1.561       1.725\n",
      "C(state_of_birth)[T.18.0]     1.0617      0.048     22.003      0.000       0.967       1.156\n",
      "C(state_of_birth)[T.19.0]     1.4293      0.052     27.479      0.000       1.327       1.531\n",
      "C(state_of_birth)[T.20.0]     1.7500      0.057     30.454      0.000       1.637       1.863\n",
      "C(state_of_birth)[T.21.0]    -0.4407      0.048     -9.137      0.000      -0.535      -0.346\n",
      "C(state_of_birth)[T.22.0]     0.3618      0.054      6.732      0.000       0.256       0.467\n",
      "C(state_of_birth)[T.23.0]     0.6508      0.073      8.874      0.000       0.507       0.795\n",
      "C(state_of_birth)[T.24.0]     0.7286      0.060     12.072      0.000       0.610       0.847\n",
      "C(state_of_birth)[T.25.0]     1.7746      0.047     37.751      0.000       1.682       1.867\n",
      "C(state_of_birth)[T.26.0]     1.2918      0.044     29.549      0.000       1.206       1.377\n",
      "C(state_of_birth)[T.27.0]     1.4792      0.051     28.977      0.000       1.379       1.579\n",
      "C(state_of_birth)[T.28.0]    -0.2246      0.054     -4.155      0.000      -0.330      -0.119\n",
      "C(state_of_birth)[T.29.0]     0.9908      0.048     20.729      0.000       0.897       1.084\n",
      "C(state_of_birth)[T.30.0]     1.6651      0.092     18.160      0.000       1.485       1.845\n",
      "C(state_of_birth)[T.31.0]     1.6486      0.064     25.744      0.000       1.523       1.774\n",
      "C(state_of_birth)[T.32.0]     1.7474      0.185      9.455      0.000       1.385       2.110\n",
      "C(state_of_birth)[T.33.0]     0.8920      0.098      9.079      0.000       0.699       1.085\n",
      "C(state_of_birth)[T.34.0]     1.7319      0.048     35.938      0.000       1.637       1.826\n",
      "C(state_of_birth)[T.35.0]     0.8706      0.094      9.253      0.000       0.686       1.055\n",
      "C(state_of_birth)[T.36.0]     2.0007      0.039     50.989      0.000       1.924       2.078\n",
      "C(state_of_birth)[T.37.0]    -0.0125      0.046     -0.270      0.787      -0.103       0.078\n",
      "C(state_of_birth)[T.38.0]     1.2426      0.079     15.785      0.000       1.088       1.397\n",
      "C(state_of_birth)[T.39.0]     1.2397      0.042     29.346      0.000       1.157       1.322\n",
      "C(state_of_birth)[T.40.0]     1.2992      0.051     25.234      0.000       1.198       1.400\n",
      "C(state_of_birth)[T.41.0]     1.9248      0.077     24.925      0.000       1.773       2.076\n",
      "C(state_of_birth)[T.42.0]     1.1434      0.040     28.816      0.000       1.066       1.221\n",
      "C(state_of_birth)[T.44.0]     1.2151      0.085     14.351      0.000       1.049       1.381\n",
      "C(state_of_birth)[T.45.0]    -0.4159      0.056     -7.439      0.000      -0.525      -0.306\n",
      "C(state_of_birth)[T.46.0]     1.4918      0.084     17.857      0.000       1.328       1.655\n",
      "C(state_of_birth)[T.47.0]    -0.1682      0.049     -3.427      0.001      -0.264      -0.072\n",
      "C(state_of_birth)[T.48.0]     0.9569      0.043     22.388      0.000       0.873       1.041\n",
      "C(state_of_birth)[T.49.0]     2.2362      0.079     28.242      0.000       2.081       2.391\n",
      "C(state_of_birth)[T.50.0]     0.7011      0.107      6.580      0.000       0.492       0.910\n",
      "C(state_of_birth)[T.51.0]    -0.2357      0.051     -4.643      0.000      -0.335      -0.136\n",
      "C(state_of_birth)[T.53.0]     1.9421      0.063     30.697      0.000       1.818       2.066\n",
      "C(state_of_birth)[T.54.0]     0.1030      0.053      1.956      0.050      -0.000       0.206\n",
      "C(state_of_birth)[T.55.0]     1.2583      0.049     25.850      0.000       1.163       1.354\n",
      "C(state_of_birth)[T.56.0]     1.8899      0.125     15.145      0.000       1.645       2.135\n",
      "q4                            0.1009      0.013      7.816      0.000       0.076       0.126\n",
      "=============================================================================================\n",
      "q4 estiamtor: 0.10085809272785337\n",
      "q4 p-value: 5.4648294166203876e-15\n"
     ]
    }
   ],
   "source": [
    "# 将第一阶段--线性回归（Z--T）\n",
    "# 先将 z出生季度转换为虚拟变量\n",
    "\n",
    "factor_data=data.assign(**{f\"q{int(q)}\":(data[\"quarter_of_birth\"]==q).astype(int)\n",
    "                         for q in data[\"quarter_of_birth\"].unique()})\n",
    "factor_data.head()\n",
    "\n",
    "# T~ Z(q4)\n",
    "first_stage=smf.ols(\"years_of_schooling ~ C(year_of_birth) + C(state_of_birth) + q4\",data=factor_data).fit()\n",
    "print(first_stage.summary().tables[1])\n",
    "print(\"q4 estiamtor:\",first_stage.params[\"q4\"])\n",
    "print(\"q4 p-value:\",first_stage.pvalues[\"q4\"])\n"
   ]
  },
  {
   "cell_type": "code",
   "execution_count": 7,
   "metadata": {},
   "outputs": [
    {
     "data": {
      "text/plain": [
       "Text(0.5,1,'log_wage by quarter of birth(first stage)')"
      ]
     },
     "execution_count": 7,
     "metadata": {},
     "output_type": "execute_result"
    },
    {
     "data": {
      "image/png": "[encoded data removed]",
      "text/plain": [
       "<Figure size 1080x432 with 1 Axes>"
      ]
     },
     "metadata": {
      "needs_background": "light"
     },
     "output_type": "display_data"
    }
   ],
   "source": [
    "# 3.第二阶段 （Y~Z）\n",
    "#画图（Y~Z）\n",
    "plt.figure(figsize=(15,6))\n",
    "plt.plot(group_data[\"time_of_birth\"],group_data[\"log_wage\"],zorder=-1)\n",
    "\n",
    "for q in range(1,5):\n",
    "    x=group_data.query(f\"quarter_of_birth=={q}\")[\"time_of_birth\"]\n",
    "    y=group_data.query(f\"quarter_of_birth=={q}\")[\"log_wage\"]\n",
    "    plt.scatter(x,y,s=200,c=f\"C{q}\",marker=\"s\")     # # marker=s, 用正方形标记\n",
    "    plt.scatter(x,y,s=100,c=f\"white\",marker=f\"${q}$\")  # marker= q, 用数字标记\n",
    "\n",
    "plt.xlabel(\"Year of Birth\")\n",
    "plt.ylabel(\"log_wage\")\n",
    "plt.title(\"log_wage by quarter of birth(first stage)\")"
   ]
  },
  {
   "cell_type": "code",
   "execution_count": 8,
   "metadata": {},
   "outputs": [
    {
     "name": "stdout",
     "output_type": "stream",
     "text": [
      "q4 estimator: 0.008603484260136315\n",
      "q4 p-value: 0.008603484260136315\n"
     ]
    }
   ],
   "source": [
    "# 第二阶段线性回归(Y~ Z)\n",
    "reduced_form =smf.ols(\"log_wage~ C(year_of_birth) + C(state_of_birth) + q4\", data=factor_data).fit()\n",
    "\n",
    "print(\"q4 estimator:\",reduced_form.params[\"q4\"])\n",
    "print(\"q4 p-value:\",reduced_form.params[\"q4\"])"
   ]
  },
  {
   "cell_type": "markdown",
   "metadata": {},
   "source": [
    "#在运用工具变量时，添加到第二阶段的其它控制变量也应该添加到第一阶段***"
   ]
  },
  {
   "cell_type": "code",
   "execution_count": 9,
   "metadata": {},
   "outputs": [
    {
     "data": {
      "text/plain": [
       "0.08530286492082695"
      ]
     },
     "execution_count": 9,
     "metadata": {},
     "output_type": "execute_result"
    }
   ],
   "source": [
    "# 3. 手动计算工具变量\n",
    "# 方法一：estimator(Y-Z)/estimator(T-Z)\n",
    "ATE_iv=reduced_form.params[\"q4\"]/first_stage.params[\"q4\"]\n",
    "ATE_iv"
   ]
  },
  {
   "cell_type": "code",
   "execution_count": 10,
   "metadata": {},
   "outputs": [
    {
     "name": "stdout",
     "output_type": "stream",
     "text": [
      "=============================================================================================\n",
      "                                coef    std err          t      P>|t|      [0.025      0.975]\n",
      "---------------------------------------------------------------------------------------------\n",
      "Intercept                     4.7468      0.305     15.548      0.000       4.148       5.345\n",
      "C(year_of_birth)[T.31.0]     -0.0078      0.007     -1.193      0.233      -0.021       0.005\n",
      "C(year_of_birth)[T.32.0]     -0.0145      0.008     -1.875      0.061      -0.030       0.001\n",
      "C(year_of_birth)[T.33.0]     -0.0174      0.009     -1.936      0.053      -0.035       0.000\n",
      "C(year_of_birth)[T.34.0]     -0.0217      0.010     -2.200      0.028      -0.041      -0.002\n",
      "C(year_of_birth)[T.35.0]     -0.0344      0.011     -3.033      0.002      -0.057      -0.012\n",
      "C(year_of_birth)[T.36.0]     -0.0347      0.012     -2.791      0.005      -0.059      -0.010\n",
      "C(year_of_birth)[T.37.0]     -0.0410      0.014     -2.945      0.003      -0.068      -0.014\n",
      "C(year_of_birth)[T.38.0]     -0.0433      0.016     -2.710      0.007      -0.075      -0.012\n",
      "C(year_of_birth)[T.39.0]     -0.0547      0.017     -3.225      0.001      -0.088      -0.021\n",
      "C(state_of_birth)[T.2.0]      0.2272      0.090      2.536      0.011       0.052       0.403\n",
      "C(state_of_birth)[T.4.0]      0.1215      0.043      2.816      0.005       0.037       0.206\n",
      "C(state_of_birth)[T.5.0]      0.0431      0.012      3.572      0.000       0.019       0.067\n",
      "C(state_of_birth)[T.6.0]      0.1351      0.058      2.315      0.021       0.021       0.250\n",
      "C(state_of_birth)[T.8.0]      0.0920      0.046      2.015      0.044       0.003       0.182\n",
      "C(state_of_birth)[T.9.0]      0.1051      0.045      2.325      0.020       0.017       0.194\n",
      "C(state_of_birth)[T.10.0]     0.0796      0.032      2.471      0.013       0.016       0.143\n",
      "C(state_of_birth)[T.11.0]     0.1162      0.060      1.929      0.054      -0.002       0.234\n",
      "C(state_of_birth)[T.12.0]    -0.0157      0.029     -0.543      0.587      -0.072       0.041\n",
      "C(state_of_birth)[T.13.0]    -0.0155      0.012     -1.322      0.186      -0.038       0.007\n",
      "C(state_of_birth)[T.15.0]     0.1256      0.059      2.112      0.035       0.009       0.242\n",
      "C(state_of_birth)[T.16.0]     0.0718      0.052      1.374      0.169      -0.031       0.174\n",
      "C(state_of_birth)[T.17.0]     0.1762      0.045      3.917      0.000       0.088       0.264\n",
      "C(state_of_birth)[T.18.0]     0.1341      0.030      4.433      0.000       0.075       0.193\n",
      "C(state_of_birth)[T.19.0]     0.0735      0.040      1.842      0.065      -0.005       0.152\n",
      "C(state_of_birth)[T.20.0]     0.0420      0.049      0.865      0.387      -0.053       0.137\n",
      "C(state_of_birth)[T.21.0]     0.1194      0.016      7.665      0.000       0.089       0.150\n",
      "C(state_of_birth)[T.22.0]     0.0883      0.015      5.916      0.000       0.059       0.118\n",
      "C(state_of_birth)[T.23.0]    -0.0236      0.023     -1.015      0.310      -0.069       0.022\n",
      "C(state_of_birth)[T.24.0]     0.1048      0.023      4.497      0.000       0.059       0.151\n",
      "C(state_of_birth)[T.25.0]     0.0783      0.049      1.611      0.107      -0.017       0.174\n",
      "C(state_of_birth)[T.26.0]     0.2035      0.036      5.675      0.000       0.133       0.274\n",
      "C(state_of_birth)[T.27.0]     0.1236      0.041      3.005      0.003       0.043       0.204\n",
      "C(state_of_birth)[T.28.0]    -0.0170      0.013     -1.324      0.186      -0.042       0.008\n",
      "C(state_of_birth)[T.29.0]     0.0955      0.028      3.358      0.001       0.040       0.151\n",
      "C(state_of_birth)[T.30.0]     0.0479      0.049      0.985      0.325      -0.047       0.143\n",
      "C(state_of_birth)[T.31.0]     0.0610      0.046      1.318      0.188      -0.030       0.152\n",
      "C(state_of_birth)[T.32.0]     0.1220      0.061      2.003      0.045       0.003       0.241\n",
      "C(state_of_birth)[T.33.0]     0.0036      0.032      0.114      0.909      -0.058       0.065\n",
      "C(state_of_birth)[T.34.0]     0.1390      0.048      2.922      0.003       0.046       0.232\n",
      "C(state_of_birth)[T.35.0]     0.0552      0.031      1.800      0.072      -0.005       0.115\n",
      "C(state_of_birth)[T.36.0]     0.1254      0.054      2.308      0.021       0.019       0.232\n",
      "C(state_of_birth)[T.37.0]    -0.0562      0.010     -5.795      0.000      -0.075      -0.037\n",
      "C(state_of_birth)[T.38.0]     0.1076      0.037      2.890      0.004       0.035       0.180\n",
      "C(state_of_birth)[T.39.0]     0.1429      0.034      4.149      0.000       0.075       0.210\n",
      "C(state_of_birth)[T.40.0]     0.0679      0.037      1.858      0.063      -0.004       0.140\n",
      "C(state_of_birth)[T.41.0]     0.1069      0.054      1.974      0.048       0.001       0.213\n",
      "C(state_of_birth)[T.42.0]     0.1103      0.032      3.467      0.001       0.048       0.173\n",
      "C(state_of_birth)[T.44.0]     0.0236      0.037      0.637      0.524      -0.049       0.096\n",
      "C(state_of_birth)[T.45.0]    -0.0723      0.016     -4.468      0.000      -0.104      -0.041\n",
      "C(state_of_birth)[T.46.0]     0.0500      0.044      1.144      0.253      -0.036       0.136\n",
      "C(state_of_birth)[T.47.0]     0.0513      0.011      4.554      0.000       0.029       0.073\n",
      "C(state_of_birth)[T.48.0]     0.0708      0.027      2.596      0.009       0.017       0.124\n",
      "C(state_of_birth)[T.49.0]     0.1001      0.062      1.606      0.108      -0.022       0.222\n",
      "C(state_of_birth)[T.50.0]    -0.0508      0.029     -1.737      0.082      -0.108       0.007\n",
      "C(state_of_birth)[T.51.0]     0.0362      0.012      2.920      0.004       0.012       0.061\n",
      "C(state_of_birth)[T.53.0]     0.1533      0.054      2.850      0.004       0.048       0.259\n",
      "C(state_of_birth)[T.54.0]     0.1256      0.011     11.027      0.000       0.103       0.148\n",
      "C(state_of_birth)[T.55.0]     0.1051      0.035      2.979      0.003       0.036       0.174\n",
      "C(state_of_birth)[T.56.0]     0.1100      0.057      1.928      0.054      -0.002       0.222\n",
      "T_hat                         0.0853      0.027      3.176      0.001       0.033       0.138\n",
      "=============================================================================================\n",
      "0.08530286492080136\n"
     ]
    }
   ],
   "source": [
    "# 方法二：Y--T_hat(T-Z)\n",
    "T_hat=first_stage.fittedvalues\n",
    "factor_data=factor_data.assign(T_hat=T_hat)\n",
    "iv_by_hand=smf.ols(\"log_wage~ C(year_of_birth) + C(state_of_birth) + T_hat\", data= factor_data).fit()\n",
    "print(iv_by_hand.summary().tables[1])\n",
    "print(iv_by_hand.params[\"T_hat\"])"
   ]
  },
  {
   "cell_type": "markdown",
   "metadata": {},
   "source": [
    "#手动计算，只能算一个estimoator值，没有有效的标准差。\n",
    "#运用包linearmodels计算，可以获得有效的标准差。"
   ]
  },
  {
   "cell_type": "code",
   "execution_count": 69,
   "metadata": {},
   "outputs": [
    {
     "ename": "NameError",
     "evalue": "name 'IV2SLS' is not defined",
     "output_type": "error",
     "traceback": [
      "\u001b[1;31m---------------------------------------------------------------------------\u001b[0m",
      "\u001b[1;31mNameError\u001b[0m                                 Traceback (most recent call last)",
      "\u001b[1;32m<ipython-input-69-a524618a8fc8>\u001b[0m in \u001b[0;36m<module>\u001b[1;34m()\u001b[0m\n\u001b[0;32m     12\u001b[0m \u001b[1;31m#2SLS\u001b[0m\u001b[1;33m\u001b[0m\u001b[1;33m\u001b[0m\u001b[0m\n\u001b[0;32m     13\u001b[0m \u001b[0mformular\u001b[0m\u001b[1;33m=\u001b[0m\u001b[1;34m\"log_wage ~ 1 + C(year_of_birth) + C(state_of_birth) + [years_of_schooling ~ q4]\"\u001b[0m\u001b[1;33m\u001b[0m\u001b[0m\n\u001b[1;32m---> 14\u001b[1;33m \u001b[0miv2sls\u001b[0m\u001b[1;33m=\u001b[0m\u001b[0mIV2SLS\u001b[0m\u001b[1;33m.\u001b[0m\u001b[0mfrom_formula\u001b[0m\u001b[1;33m(\u001b[0m\u001b[0mformula\u001b[0m\u001b[1;33m,\u001b[0m\u001b[0mfactor_data\u001b[0m\u001b[1;33m)\u001b[0m\u001b[1;33m.\u001b[0m\u001b[0mfit\u001b[0m\u001b[1;33m(\u001b[0m\u001b[1;33m)\u001b[0m\u001b[1;33m\u001b[0m\u001b[0m\n\u001b[0m\u001b[0;32m     15\u001b[0m \u001b[0mparse\u001b[0m\u001b[1;33m(\u001b[0m\u001b[0miv2sls\u001b[0m\u001b[1;33m)\u001b[0m\u001b[1;33m\u001b[0m\u001b[0m\n",
      "\u001b[1;31mNameError\u001b[0m: name 'IV2SLS' is not defined"
     ]
    }
   ],
   "source": [
    "# 4.运用包自动计算工具变量（2SLS）\n",
    "# 定义输出的东西\n",
    "def parase(model,exog=\"year_of_schooling\"):\n",
    "    param=model.params[exog]\n",
    "    se=model.std_errors[exog]\n",
    "    p_val=model.pvalues[exog]\n",
    "    print(f\"Parameter: {param}\")\n",
    "    print(f\"SE: {se}\")\n",
    "    print(f\"95 CI: {(-1.96*se,1.96*se)+param}\")\n",
    "    print(f\"P-value:{p_val}\")\n",
    "    \n",
    "#2SLS\n",
    "formular=\"log_wage ~ 1 + C(year_of_birth) + C(state_of_birth) + [years_of_schooling ~ q4]\"\n",
    "iv2sls=IV2SLS.from_formula(formula,factor_data).fit()\n",
    "parse(iv2sls)\n"
   ]
  },
  {
   "cell_type": "markdown",
   "metadata": {},
   "source": [
    "# 多个工具变量"
   ]
  },
  {
   "cell_type": "code",
   "execution_count": 12,
   "metadata": {},
   "outputs": [
    {
     "ename": "ValueError",
     "evalue": "formula not understood. Endogenous variables and instruments must be segregated in a block that starts with [ and ends with ].",
     "output_type": "error",
     "traceback": [
      "\u001b[1;31m---------------------------------------------------------------------------\u001b[0m",
      "\u001b[1;31mValueError\u001b[0m                                Traceback (most recent call last)",
      "\u001b[1;32m<ipython-input-12-4ddac3577419>\u001b[0m in \u001b[0;36m<module>\u001b[1;34m()\u001b[0m\n\u001b[0;32m      1\u001b[0m \u001b[1;31m# 多个工具变量\u001b[0m\u001b[1;33m\u001b[0m\u001b[1;33m\u001b[0m\u001b[0m\n\u001b[0;32m      2\u001b[0m \u001b[0mformula\u001b[0m\u001b[1;33m=\u001b[0m\u001b[1;34m\"log_wage~ 1 + C(year_of_birth) + C(state_of_birth) + [years_of_schooling ~ q1+q2+q3\"\u001b[0m\u001b[1;33m\u001b[0m\u001b[0m\n\u001b[1;32m----> 3\u001b[1;33m \u001b[0miv2sls_many\u001b[0m\u001b[1;33m=\u001b[0m\u001b[0mIV2SLS\u001b[0m\u001b[1;33m.\u001b[0m\u001b[0mfrom_formula\u001b[0m\u001b[1;33m(\u001b[0m\u001b[0mformula\u001b[0m\u001b[1;33m,\u001b[0m\u001b[0mfactor_data\u001b[0m\u001b[1;33m)\u001b[0m\u001b[1;33m.\u001b[0m\u001b[0mfit\u001b[0m\u001b[1;33m(\u001b[0m\u001b[1;33m)\u001b[0m\u001b[1;33m\u001b[0m\u001b[0m\n\u001b[0m\u001b[0;32m      4\u001b[0m \u001b[0mparse\u001b[0m\u001b[1;33m(\u001b[0m\u001b[0miv2sls_many\u001b[0m\u001b[1;33m)\u001b[0m\u001b[1;33m\u001b[0m\u001b[0m\n",
      "\u001b[1;32mD:\\Anaconda\\lib\\site-packages\\linearmodels\\iv\\model.py\u001b[0m in \u001b[0;36mfrom_formula\u001b[1;34m(formula, data, weights)\u001b[0m\n\u001b[0;32m    893\u001b[0m         \u001b[1;33m>>\u001b[0m\u001b[1;33m>\u001b[0m \u001b[0mmod\u001b[0m \u001b[1;33m=\u001b[0m \u001b[0mIV2SLS\u001b[0m\u001b[1;33m.\u001b[0m\u001b[0mfrom_formula\u001b[0m\u001b[1;33m(\u001b[0m\u001b[0mformula\u001b[0m\u001b[1;33m,\u001b[0m \u001b[0mdata\u001b[0m\u001b[1;33m)\u001b[0m\u001b[1;33m\u001b[0m\u001b[0m\n\u001b[0;32m    894\u001b[0m         \"\"\"\n\u001b[1;32m--> 895\u001b[1;33m         \u001b[0mparser\u001b[0m \u001b[1;33m=\u001b[0m \u001b[0mIVFormulaParser\u001b[0m\u001b[1;33m(\u001b[0m\u001b[0mformula\u001b[0m\u001b[1;33m,\u001b[0m \u001b[0mdata\u001b[0m\u001b[1;33m)\u001b[0m\u001b[1;33m\u001b[0m\u001b[0m\n\u001b[0m\u001b[0;32m    896\u001b[0m         \u001b[0mdep\u001b[0m\u001b[1;33m,\u001b[0m \u001b[0mexog\u001b[0m\u001b[1;33m,\u001b[0m \u001b[0mendog\u001b[0m\u001b[1;33m,\u001b[0m \u001b[0minstr\u001b[0m \u001b[1;33m=\u001b[0m \u001b[0mparser\u001b[0m\u001b[1;33m.\u001b[0m\u001b[0mdata\u001b[0m\u001b[1;33m\u001b[0m\u001b[0m\n\u001b[0;32m    897\u001b[0m         \u001b[0mmod\u001b[0m \u001b[1;33m=\u001b[0m \u001b[0mIV2SLS\u001b[0m\u001b[1;33m(\u001b[0m\u001b[0mdep\u001b[0m\u001b[1;33m,\u001b[0m \u001b[0mexog\u001b[0m\u001b[1;33m,\u001b[0m \u001b[0mendog\u001b[0m\u001b[1;33m,\u001b[0m \u001b[0minstr\u001b[0m\u001b[1;33m,\u001b[0m \u001b[0mweights\u001b[0m\u001b[1;33m=\u001b[0m\u001b[0mweights\u001b[0m\u001b[1;33m)\u001b[0m\u001b[1;33m\u001b[0m\u001b[0m\n",
      "\u001b[1;32mD:\\Anaconda\\lib\\site-packages\\linearmodels\\iv\\_utility.py\u001b[0m in \u001b[0;36m__init__\u001b[1;34m(self, formula, data, eval_env)\u001b[0m\n\u001b[0;32m     86\u001b[0m         \u001b[0mself\u001b[0m\u001b[1;33m.\u001b[0m\u001b[0m_eval_env\u001b[0m \u001b[1;33m=\u001b[0m \u001b[0meval_env\u001b[0m\u001b[1;33m\u001b[0m\u001b[0m\n\u001b[0;32m     87\u001b[0m         \u001b[0mself\u001b[0m\u001b[1;33m.\u001b[0m\u001b[0m_components\u001b[0m\u001b[1;33m:\u001b[0m \u001b[0mDict\u001b[0m\u001b[1;33m[\u001b[0m\u001b[0mstr\u001b[0m\u001b[1;33m,\u001b[0m \u001b[0mstr\u001b[0m\u001b[1;33m]\u001b[0m \u001b[1;33m=\u001b[0m \u001b[1;33m{\u001b[0m\u001b[1;33m}\u001b[0m\u001b[1;33m\u001b[0m\u001b[0m\n\u001b[1;32m---> 88\u001b[1;33m         \u001b[0mself\u001b[0m\u001b[1;33m.\u001b[0m\u001b[0m_parse\u001b[0m\u001b[1;33m(\u001b[0m\u001b[1;33m)\u001b[0m\u001b[1;33m\u001b[0m\u001b[0m\n\u001b[0m\u001b[0;32m     89\u001b[0m \u001b[1;33m\u001b[0m\u001b[0m\n\u001b[0;32m     90\u001b[0m     \u001b[1;32mdef\u001b[0m \u001b[0m_parse\u001b[0m\u001b[1;33m(\u001b[0m\u001b[0mself\u001b[0m\u001b[1;33m)\u001b[0m \u001b[1;33m->\u001b[0m \u001b[1;32mNone\u001b[0m\u001b[1;33m:\u001b[0m\u001b[1;33m\u001b[0m\u001b[0m\n",
      "\u001b[1;32mD:\\Anaconda\\lib\\site-packages\\linearmodels\\iv\\_utility.py\u001b[0m in \u001b[0;36m_parse\u001b[1;34m(self)\u001b[0m\n\u001b[0;32m     99\u001b[0m             \u001b[1;32mif\u001b[0m \u001b[1;34m\"[\"\u001b[0m \u001b[1;32mnot\u001b[0m \u001b[1;32min\u001b[0m \u001b[0mblocks\u001b[0m\u001b[1;33m[\u001b[0m\u001b[1;36m1\u001b[0m\u001b[1;33m]\u001b[0m \u001b[1;32mor\u001b[0m \u001b[1;34m\"]\"\u001b[0m \u001b[1;32mnot\u001b[0m \u001b[1;32min\u001b[0m \u001b[0mblocks\u001b[0m\u001b[1;33m[\u001b[0m\u001b[1;36m2\u001b[0m\u001b[1;33m]\u001b[0m\u001b[1;33m:\u001b[0m\u001b[1;33m\u001b[0m\u001b[0m\n\u001b[0;32m    100\u001b[0m                 raise ValueError(\n\u001b[1;32m--> 101\u001b[1;33m                     \u001b[1;34m\"formula not understood. Endogenous variables and \"\u001b[0m\u001b[1;33m\u001b[0m\u001b[0m\n\u001b[0m\u001b[0;32m    102\u001b[0m                     \u001b[1;34m\"instruments must be segregated in a block that \"\u001b[0m\u001b[1;33m\u001b[0m\u001b[0m\n\u001b[0;32m    103\u001b[0m                     \u001b[1;34m\"starts with [ and ends with ].\"\u001b[0m\u001b[1;33m\u001b[0m\u001b[0m\n",
      "\u001b[1;31mValueError\u001b[0m: formula not understood. Endogenous variables and instruments must be segregated in a block that starts with [ and ends with ]."
     ]
    }
   ],
   "source": [
    "# 多个工具变量\n",
    "formula=\"log_wage~ 1 + C(year_of_birth) + C(state_of_birth) + [years_of_schooling ~ q1+q2+q3\"\n",
    "iv2sls_many=IV2SLS.from_formula(formula,factor_data).fit()\n",
    "parse(iv2sls_many)"
   ]
  },
  {
   "cell_type": "markdown",
   "metadata": {},
   "source": [
    "# 工具变量的弱点"
   ]
  },
  {
   "cell_type": "code",
   "execution_count": 23,
   "metadata": {},
   "outputs": [
    {
     "data": {
      "text/html": [
       "<div>\n",
       "<style scoped>\n",
       "    .dataframe tbody tr th:only-of-type {\n",
       "        vertical-align: middle;\n",
       "    }\n",
       "\n",
       "    .dataframe tbody tr th {\n",
       "        vertical-align: top;\n",
       "    }\n",
       "\n",
       "    .dataframe thead th {\n",
       "        text-align: right;\n",
       "    }\n",
       "</style>\n",
       "<table border=\"1\" class=\"dataframe\">\n",
       "  <thead>\n",
       "    <tr style=\"text-align: right;\">\n",
       "      <th></th>\n",
       "      <th>U</th>\n",
       "      <th>T</th>\n",
       "      <th>Y</th>\n",
       "      <th>Z_0</th>\n",
       "      <th>Z_1</th>\n",
       "      <th>Z_2</th>\n",
       "      <th>Z_3</th>\n",
       "      <th>Z_4</th>\n",
       "      <th>Z_5</th>\n",
       "      <th>Z_6</th>\n",
       "      <th>...</th>\n",
       "      <th>Z_40</th>\n",
       "      <th>Z_41</th>\n",
       "      <th>Z_42</th>\n",
       "      <th>Z_43</th>\n",
       "      <th>Z_44</th>\n",
       "      <th>Z_45</th>\n",
       "      <th>Z_46</th>\n",
       "      <th>Z_47</th>\n",
       "      <th>Z_48</th>\n",
       "      <th>Z_49</th>\n",
       "    </tr>\n",
       "  </thead>\n",
       "  <tbody>\n",
       "    <tr>\n",
       "      <th>0</th>\n",
       "      <td>2.696148</td>\n",
       "      <td>8.056988</td>\n",
       "      <td>18.388910</td>\n",
       "      <td>8.233315</td>\n",
       "      <td>9.028779</td>\n",
       "      <td>16.430365</td>\n",
       "      <td>7.348864</td>\n",
       "      <td>4.848165</td>\n",
       "      <td>1.567900</td>\n",
       "      <td>16.654138</td>\n",
       "      <td>...</td>\n",
       "      <td>50.836515</td>\n",
       "      <td>-121.965878</td>\n",
       "      <td>-9.118833</td>\n",
       "      <td>-42.297891</td>\n",
       "      <td>17.015717</td>\n",
       "      <td>51.777219</td>\n",
       "      <td>78.678074</td>\n",
       "      <td>-164.581598</td>\n",
       "      <td>-117.798705</td>\n",
       "      <td>-13.485292</td>\n",
       "    </tr>\n",
       "    <tr>\n",
       "      <th>1</th>\n",
       "      <td>2.570240</td>\n",
       "      <td>0.245067</td>\n",
       "      <td>2.015052</td>\n",
       "      <td>0.455988</td>\n",
       "      <td>-0.901285</td>\n",
       "      <td>-6.442245</td>\n",
       "      <td>-2.824902</td>\n",
       "      <td>7.327944</td>\n",
       "      <td>-9.643833</td>\n",
       "      <td>14.237652</td>\n",
       "      <td>...</td>\n",
       "      <td>29.966537</td>\n",
       "      <td>141.855092</td>\n",
       "      <td>79.040440</td>\n",
       "      <td>66.249629</td>\n",
       "      <td>-23.107153</td>\n",
       "      <td>25.007034</td>\n",
       "      <td>-73.621303</td>\n",
       "      <td>85.867339</td>\n",
       "      <td>-209.727577</td>\n",
       "      <td>-70.792948</td>\n",
       "    </tr>\n",
       "    <tr>\n",
       "      <th>2</th>\n",
       "      <td>0.664741</td>\n",
       "      <td>5.597510</td>\n",
       "      <td>11.939170</td>\n",
       "      <td>5.528384</td>\n",
       "      <td>6.148148</td>\n",
       "      <td>10.141348</td>\n",
       "      <td>18.923875</td>\n",
       "      <td>-5.550785</td>\n",
       "      <td>4.495364</td>\n",
       "      <td>-14.070897</td>\n",
       "      <td>...</td>\n",
       "      <td>-29.051441</td>\n",
       "      <td>14.537511</td>\n",
       "      <td>-95.846490</td>\n",
       "      <td>-117.922132</td>\n",
       "      <td>43.194916</td>\n",
       "      <td>58.534855</td>\n",
       "      <td>119.820024</td>\n",
       "      <td>-173.513340</td>\n",
       "      <td>60.562232</td>\n",
       "      <td>47.619414</td>\n",
       "    </tr>\n",
       "    <tr>\n",
       "      <th>3</th>\n",
       "      <td>1.037725</td>\n",
       "      <td>0.493532</td>\n",
       "      <td>-5.077869</td>\n",
       "      <td>0.382075</td>\n",
       "      <td>0.790127</td>\n",
       "      <td>-2.753808</td>\n",
       "      <td>3.146698</td>\n",
       "      <td>-7.152174</td>\n",
       "      <td>-6.322238</td>\n",
       "      <td>9.209916</td>\n",
       "      <td>...</td>\n",
       "      <td>-61.446478</td>\n",
       "      <td>26.719702</td>\n",
       "      <td>-40.753912</td>\n",
       "      <td>63.725307</td>\n",
       "      <td>22.462409</td>\n",
       "      <td>97.200099</td>\n",
       "      <td>-116.309759</td>\n",
       "      <td>-26.328707</td>\n",
       "      <td>78.136513</td>\n",
       "      <td>-108.322304</td>\n",
       "    </tr>\n",
       "    <tr>\n",
       "      <th>4</th>\n",
       "      <td>-2.590591</td>\n",
       "      <td>-6.263014</td>\n",
       "      <td>-6.460508</td>\n",
       "      <td>-6.197533</td>\n",
       "      <td>-5.954731</td>\n",
       "      <td>-19.295207</td>\n",
       "      <td>-11.343303</td>\n",
       "      <td>-7.231806</td>\n",
       "      <td>5.556399</td>\n",
       "      <td>-17.913401</td>\n",
       "      <td>...</td>\n",
       "      <td>-28.071993</td>\n",
       "      <td>146.111732</td>\n",
       "      <td>-21.991256</td>\n",
       "      <td>88.258432</td>\n",
       "      <td>62.211154</td>\n",
       "      <td>-72.066362</td>\n",
       "      <td>51.848504</td>\n",
       "      <td>-117.858043</td>\n",
       "      <td>78.776566</td>\n",
       "      <td>-80.547214</td>\n",
       "    </tr>\n",
       "  </tbody>\n",
       "</table>\n",
       "<p>5 rows × 53 columns</p>\n",
       "</div>"
      ],
      "text/plain": [
       "          U         T          Y       Z_0       Z_1        Z_2        Z_3  \\\n",
       "0  2.696148  8.056988  18.388910  8.233315  9.028779  16.430365   7.348864   \n",
       "1  2.570240  0.245067   2.015052  0.455988 -0.901285  -6.442245  -2.824902   \n",
       "2  0.664741  5.597510  11.939170  5.528384  6.148148  10.141348  18.923875   \n",
       "3  1.037725  0.493532  -5.077869  0.382075  0.790127  -2.753808   3.146698   \n",
       "4 -2.590591 -6.263014  -6.460508 -6.197533 -5.954731 -19.295207 -11.343303   \n",
       "\n",
       "        Z_4       Z_5        Z_6  ...       Z_40        Z_41       Z_42  \\\n",
       "0  4.848165  1.567900  16.654138  ...  50.836515 -121.965878  -9.118833   \n",
       "1  7.327944 -9.643833  14.237652  ...  29.966537  141.855092  79.040440   \n",
       "2 -5.550785  4.495364 -14.070897  ... -29.051441   14.537511 -95.846490   \n",
       "3 -7.152174 -6.322238   9.209916  ... -61.446478   26.719702 -40.753912   \n",
       "4 -7.231806  5.556399 -17.913401  ... -28.071993  146.111732 -21.991256   \n",
       "\n",
       "         Z_43       Z_44       Z_45        Z_46        Z_47        Z_48  \\\n",
       "0  -42.297891  17.015717  51.777219   78.678074 -164.581598 -117.798705   \n",
       "1   66.249629 -23.107153  25.007034  -73.621303   85.867339 -209.727577   \n",
       "2 -117.922132  43.194916  58.534855  119.820024 -173.513340   60.562232   \n",
       "3   63.725307  22.462409  97.200099 -116.309759  -26.328707   78.136513   \n",
       "4   88.258432  62.211154 -72.066362   51.848504 -117.858043   78.776566   \n",
       "\n",
       "         Z_49  \n",
       "0  -13.485292  \n",
       "1  -70.792948  \n",
       "2   47.619414  \n",
       "3 -108.322304  \n",
       "4  -80.547214  \n",
       "\n",
       "[5 rows x 53 columns]"
      ]
     },
     "execution_count": 23,
     "metadata": {},
     "output_type": "execute_result"
    }
   ],
   "source": [
    "# 创建模拟数据\n",
    "np.random.seed(12)\n",
    "n=10000\n",
    "X=np.random.normal(0,2,n)  # 观察到的变量 X\n",
    "U=np.random.normal(0,2,n)  #未观察到的变量 U（忽略的变量）\n",
    "T=np.random.normal(1 + 0.5*U, 5 , n)  #treatment变量\n",
    "Y=np.random.normal(2 + X - 0.5*U + 2*T, 5 , n)  #Y变量\n",
    "\n",
    "stddevs= np.linspace(0.1,100,50) \n",
    "Zs= {f\"Z_{z}\": np.random.normal(T,s,n) for z,s in enumerate(stddevs)} # IV 变量 with decreasing Cov(Z ,T)\n",
    "\n",
    "sim_data=pd.DataFrame(dict(U=U,T=T,Y=Y)).assign(**Zs)\n",
    "sim_data.head()"
   ]
  },
  {
   "cell_type": "code",
   "execution_count": 36,
   "metadata": {},
   "outputs": [
    {
     "data": {
      "text/plain": [
       "Z_0    0.999807\n",
       "Z_1    0.919713\n",
       "Z_2    0.773434\n",
       "Z_3    0.634614\n",
       "Z_4    0.523719\n",
       "Name: T, dtype: float64"
      ]
     },
     "execution_count": 36,
     "metadata": {},
     "output_type": "execute_result"
    }
   ],
   "source": [
    "# 检查 cov(z,T)\n",
    "sim_data.corr()   # 查看表内所有变量之间的相关系数\n",
    "cov_T= sim_data.corr()[\"T\"]    # 产看表内所有变量与T之间的相关系数\n",
    "corr=cov_T[cov_T.index.str.startswith(\"Z\")]   # 选取index以Z开头的\n",
    "corr.head()"
   ]
  },
  {
   "cell_type": "code",
   "execution_count": null,
   "metadata": {},
   "outputs": [],
   "source": [
    "# # 为每一个工具变量运行2SLS\n",
    "se=[]    #将标准差装进se\n",
    "ate= []    #将ate装进ate\n",
    "for z in range(len(Zs)):\n",
    "    formula=f\"Y~1+X+[T~{Zs}]\"\n",
    "    iv=IV2SLS.from_formula(formula,sim_data).fit()\n",
    "    se.append(iv.std_errors[\"T\"])\n",
    "    ate.append(iv.params[\"T\"])"
   ]
  },
  {
   "cell_type": "code",
   "execution_count": null,
   "metadata": {},
   "outputs": [],
   "source": [
    "# 画图\n",
    "plot_data=pd.DataFrame(dict(se=se,ate=ate,corr=corr))\n",
    "plt.scatter(plot_data[\"corr\"],plot_data[\"se\"]"
   ]
  },
  {
   "cell_type": "markdown",
   "metadata": {},
   "source": [
    "#结论：Z与T的相关性越小，则最后的IV估计出的ATE的标准差越大。"
   ]
  },
  {
   "cell_type": "code",
   "execution_count": null,
   "metadata": {},
   "outputs": [],
   "source": []
  }
 ],
 "metadata": {
  "kernelspec": {
   "display_name": "Python 3",
   "language": "python",
   "name": "python3"
  },
  "language_info": {
   "codemirror_mode": {
    "name": "ipython",
    "version": 3
   },
   "file_extension": ".py",
   "mimetype": "text/x-python",
   "name": "python",
   "nbconvert_exporter": "python",
   "pygments_lexer": "ipython3",
   "version": "3.7.0"
  }
 },
 "nbformat": 4,
 "nbformat_minor": 2
}
