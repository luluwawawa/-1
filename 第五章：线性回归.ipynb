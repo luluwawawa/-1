{
 "cells": [
  {
   "cell_type": "code",
   "execution_count": 7,
   "metadata": {},
   "outputs": [],
   "source": [
    "import warnings\n",
    "warnings.filterwarnings('ignore')"
   ]
  },
  {
   "cell_type": "code",
   "execution_count": 8,
   "metadata": {},
   "outputs": [],
   "source": [
    "#读取基本包\n",
    "import pandas as pd\n",
    "import numpy as np\n",
    "import seaborn as sns\n",
    "from matplotlib import pyplot as plt\n",
    "from matplotlib import style\n",
    "\n",
    "#读取线性回归包\n",
    "import statsmodels.formula.api as smf"
   ]
  },
  {
   "cell_type": "code",
   "execution_count": 9,
   "metadata": {},
   "outputs": [],
   "source": [
    "#读取数据\n",
    "data=pd.read_csv(\"C:/Users/62678/Desktop/Causal/data/online_classroom.csv\").query(\"format_blended==0\")"
   ]
  },
  {
   "cell_type": "code",
   "execution_count": 13,
   "metadata": {},
   "outputs": [
    {
     "data": {
      "text/html": [
       "<table class=\"simpletable\">\n",
       "<caption>OLS Regression Results</caption>\n",
       "<tr>\n",
       "  <th>Dep. Variable:</th>        <td>falsexam</td>     <th>  R-squared:         </th> <td>   0.039</td>\n",
       "</tr>\n",
       "<tr>\n",
       "  <th>Model:</th>                   <td>OLS</td>       <th>  Adj. R-squared:    </th> <td>   0.034</td>\n",
       "</tr>\n",
       "<tr>\n",
       "  <th>Method:</th>             <td>Least Squares</td>  <th>  F-statistic:       </th> <td>   8.554</td>\n",
       "</tr>\n",
       "<tr>\n",
       "  <th>Date:</th>             <td>Tue, 12 Jul 2022</td> <th>  Prob (F-statistic):</th>  <td>0.00382</td>\n",
       "</tr>\n",
       "<tr>\n",
       "  <th>Time:</th>                 <td>13:55:56</td>     <th>  Log-Likelihood:    </th> <td> -837.85</td>\n",
       "</tr>\n",
       "<tr>\n",
       "  <th>No. Observations:</th>      <td>   214</td>      <th>  AIC:               </th> <td>   1680.</td>\n",
       "</tr>\n",
       "<tr>\n",
       "  <th>Df Residuals:</th>          <td>   212</td>      <th>  BIC:               </th> <td>   1686.</td>\n",
       "</tr>\n",
       "<tr>\n",
       "  <th>Df Model:</th>              <td>     1</td>      <th>                     </th>     <td> </td>   \n",
       "</tr>\n",
       "<tr>\n",
       "  <th>Covariance Type:</th>      <td>nonrobust</td>    <th>                     </th>     <td> </td>   \n",
       "</tr>\n",
       "</table>\n",
       "<table class=\"simpletable\">\n",
       "<tr>\n",
       "      <td></td>         <th>coef</th>     <th>std err</th>      <th>t</th>      <th>P>|t|</th>  <th>[0.025</th>    <th>0.975]</th>  \n",
       "</tr>\n",
       "<tr>\n",
       "  <th>Intercept</th> <td>   78.5475</td> <td>    1.113</td> <td>   70.563</td> <td> 0.000</td> <td>   76.353</td> <td>   80.742</td>\n",
       "</tr>\n",
       "<tr>\n",
       "  <th>format_ol</th> <td>   -4.9122</td> <td>    1.680</td> <td>   -2.925</td> <td> 0.004</td> <td>   -8.223</td> <td>   -1.601</td>\n",
       "</tr>\n",
       "</table>\n",
       "<table class=\"simpletable\">\n",
       "<tr>\n",
       "  <th>Omnibus:</th>       <td>129.000</td> <th>  Durbin-Watson:     </th> <td>   2.091</td> \n",
       "</tr>\n",
       "<tr>\n",
       "  <th>Prob(Omnibus):</th> <td> 0.000</td>  <th>  Jarque-Bera (JB):  </th> <td>1179.385</td> \n",
       "</tr>\n",
       "<tr>\n",
       "  <th>Skew:</th>          <td>-2.179</td>  <th>  Prob(JB):          </th> <td>7.94e-257</td>\n",
       "</tr>\n",
       "<tr>\n",
       "  <th>Kurtosis:</th>      <td>13.643</td>  <th>  Cond. No.          </th> <td>    2.50</td> \n",
       "</tr>\n",
       "</table><br/><br/>Warnings:<br/>[1] Standard Errors assume that the covariance matrix of the errors is correctly specified."
      ],
      "text/plain": [
       "<class 'statsmodels.iolib.summary.Summary'>\n",
       "\"\"\"\n",
       "                            OLS Regression Results                            \n",
       "==============================================================================\n",
       "Dep. Variable:               falsexam   R-squared:                       0.039\n",
       "Model:                            OLS   Adj. R-squared:                  0.034\n",
       "Method:                 Least Squares   F-statistic:                     8.554\n",
       "Date:                Tue, 12 Jul 2022   Prob (F-statistic):            0.00382\n",
       "Time:                        13:55:56   Log-Likelihood:                -837.85\n",
       "No. Observations:                 214   AIC:                             1680.\n",
       "Df Residuals:                     212   BIC:                             1686.\n",
       "Df Model:                           1                                         \n",
       "Covariance Type:            nonrobust                                         \n",
       "==============================================================================\n",
       "                 coef    std err          t      P>|t|      [0.025      0.975]\n",
       "------------------------------------------------------------------------------\n",
       "Intercept     78.5475      1.113     70.563      0.000      76.353      80.742\n",
       "format_ol     -4.9122      1.680     -2.925      0.004      -8.223      -1.601\n",
       "==============================================================================\n",
       "Omnibus:                      129.000   Durbin-Watson:                   2.091\n",
       "Prob(Omnibus):                  0.000   Jarque-Bera (JB):             1179.385\n",
       "Skew:                          -2.179   Prob(JB):                    7.94e-257\n",
       "Kurtosis:                      13.643   Cond. No.                         2.50\n",
       "==============================================================================\n",
       "\n",
       "Warnings:\n",
       "[1] Standard Errors assume that the covariance matrix of the errors is correctly specified.\n",
       "\"\"\""
      ]
     },
     "execution_count": 13,
     "metadata": {},
     "output_type": "execute_result"
    }
   ],
   "source": [
    "#1. 随机数的线性回归\n",
    "result=smf.ols(\"falsexam ~ format_ol\",data=data).fit()\n",
    "result.summary()"
   ]
  },
  {
   "cell_type": "code",
   "execution_count": 14,
   "metadata": {},
   "outputs": [
    {
     "data": {
      "text/html": [
       "<table class=\"simpletable\">\n",
       "<tr>\n",
       "      <td></td>         <th>coef</th>     <th>std err</th>      <th>t</th>      <th>P>|t|</th>  <th>[0.025</th>    <th>0.975]</th>  \n",
       "</tr>\n",
       "<tr>\n",
       "  <th>Intercept</th> <td>   78.5475</td> <td>    1.113</td> <td>   70.563</td> <td> 0.000</td> <td>   76.353</td> <td>   80.742</td>\n",
       "</tr>\n",
       "<tr>\n",
       "  <th>format_ol</th> <td>   -4.9122</td> <td>    1.680</td> <td>   -2.925</td> <td> 0.004</td> <td>   -8.223</td> <td>   -1.601</td>\n",
       "</tr>\n",
       "</table>"
      ],
      "text/plain": [
       "<class 'statsmodels.iolib.table.SimpleTable'>"
      ]
     },
     "execution_count": 14,
     "metadata": {},
     "output_type": "execute_result"
    }
   ],
   "source": [
    "result.summary().tables[1]"
   ]
  },
  {
   "cell_type": "code",
   "execution_count": 15,
   "metadata": {},
   "outputs": [
    {
     "name": "stdout",
     "output_type": "stream",
     "text": [
      "format_ol\n",
      "0    78.547485\n",
      "1    73.635263\n",
      "Name: falsexam, dtype: float64\n"
     ]
    }
   ],
   "source": [
    "#手动计算ATE\n",
    "#分组计算均值，先groupby,再select,再mean\n",
    "A=data.groupby('format_ol')['falsexam'].mean()\n",
    "print(A)"
   ]
  },
  {
   "cell_type": "code",
   "execution_count": 18,
   "metadata": {},
   "outputs": [
    {
     "name": "stdout",
     "output_type": "stream",
     "text": [
      "(214,)\n",
      "[-4.9122215  78.54748458]\n",
      "-4.912221498226954\n"
     ]
    }
   ],
   "source": [
    "#手动计算线性回归参数\n",
    "print(data['format_ol'].shape)  #data['列名']为series,data[['列名']]为dataframe类型\n",
    "x=data[['format_ol']].assign(intercep=1) #加一列全为1\n",
    "y=data['falsexam']\n",
    "beta= np.linalg.inv(x.T.dot(x)).dot(x.T.dot(y))\n",
    "print(beta)\n",
    "kepa=y.cov(data['format_ol'])/data['format_ol'].var()\n",
    "print(kepa)"
   ]
  },
  {
   "cell_type": "code",
   "execution_count": 19,
   "metadata": {},
   "outputs": [
    {
     "name": "stdout",
     "output_type": "stream",
     "text": [
      "    wage  hours    lhwage   IQ  educ  exper  tenure  age  married  black  \\\n",
      "0    769     40  2.956212   93    12     11       2   31        1      0   \n",
      "2    825     40  3.026504  108    14     11       9   33        1      0   \n",
      "3    650     40  2.788093   96    12     13       7   32        1      0   \n",
      "4    562     40  2.642622   74    11     14       5   34        1      0   \n",
      "6    600     40  2.708050   91    10     13       0   30        0      0   \n",
      "8   1154     45  3.244327  111    15     13       1   36        1      0   \n",
      "9   1000     40  3.218876   95    12     16      16   36        1      0   \n",
      "10   930     43  3.073984  132    18      8      13   38        1      0   \n",
      "13  1318     38  3.546285  119    16      7       2   28        1      0   \n",
      "14  1792     40  3.802208  118    16      9       9   34        1      0   \n",
      "\n",
      "    south  urban  sibs  brthord  meduc  feduc  \n",
      "0       0      1     1      2.0    8.0    8.0  \n",
      "2       0      1     1      2.0   14.0   14.0  \n",
      "3       0      1     4      3.0   12.0   12.0  \n",
      "4       0      1    10      6.0    6.0   11.0  \n",
      "6       0      1     1      2.0    8.0    8.0  \n",
      "8       0      0     2      3.0   14.0    5.0  \n",
      "9       0      1     1      1.0   12.0   11.0  \n",
      "10      0      0     1      1.0   13.0   14.0  \n",
      "13      0      1     3      1.0   10.0   10.0  \n",
      "14      0      1     1      1.0   12.0   12.0  \n",
      "==============================================================================\n",
      "                 coef    std err          t      P>|t|      [0.025      0.975]\n",
      "------------------------------------------------------------------------------\n",
      "Intercept      2.3071      0.104     22.089      0.000       2.102       2.512\n",
      "educ           0.0536      0.008      7.114      0.000       0.039       0.068\n",
      "==============================================================================\n"
     ]
    }
   ],
   "source": [
    "#2.非随机数据的回归\n",
    "wage=pd.read_csv(\"C:/Users/62678/Desktop/Causal/data/wage.csv\").dropna()\n",
    "print(wage.head(10))\n",
    "#model1：简单的回归\n",
    "model_1=smf.ols('np.log(hwage)~educ',data=wage.assign(hwage=wage['wage']/wage['hours'])).fit()\n",
    "print(model_1.summary().tables[1])"
   ]
  },
  {
   "cell_type": "code",
   "execution_count": 20,
   "metadata": {},
   "outputs": [
    {
     "data": {
      "image/png": "[encoded data removed]",
      "text/plain": [
       "<Figure size 432x288 with 1 Axes>"
      ]
     },
     "metadata": {},
     "output_type": "display_data"
    }
   ],
   "source": [
    "#画出回归曲线\n",
    "style.use(\"fivethirtyeight\")\n",
    "x=np.array(range(5,20))\n",
    "plt.plot(x, np.exp(model_1.params['Intercept']+model_1.params['educ']*x))\n",
    "plt.xlabel(\"Years of Education\")\n",
    "plt.ylabel(\"hourly wage\")\n",
    "plt.title(\"impact of eduction on hourly wage\")\n",
    "plt.show()"
   ]
  },
  {
   "cell_type": "code",
   "execution_count": 21,
   "metadata": {},
   "outputs": [
    {
     "name": "stdout",
     "output_type": "stream",
     "text": [
      "==============================================================================\n",
      "                 coef    std err          t      P>|t|      [0.025      0.975]\n",
      "------------------------------------------------------------------------------\n",
      "Intercept      1.1156      0.232      4.802      0.000       0.659       1.572\n",
      "educ           0.0411      0.010      4.075      0.000       0.021       0.061\n",
      "IQ             0.0038      0.001      2.794      0.005       0.001       0.006\n",
      "exper          0.0153      0.005      3.032      0.003       0.005       0.025\n",
      "tenure         0.0094      0.003      2.836      0.005       0.003       0.016\n",
      "age            0.0086      0.006      1.364      0.173      -0.004       0.021\n",
      "married        0.1795      0.053      3.415      0.001       0.076       0.283\n",
      "black         -0.0801      0.063     -1.263      0.207      -0.205       0.044\n",
      "south         -0.0397      0.035     -1.129      0.259      -0.109       0.029\n",
      "urban          0.1926      0.036      5.418      0.000       0.123       0.262\n",
      "sibs           0.0065      0.009      0.722      0.470      -0.011       0.024\n",
      "brthord       -0.0080      0.013     -0.604      0.546      -0.034       0.018\n",
      "meduc          0.0089      0.007      1.265      0.206      -0.005       0.023\n",
      "feduc          0.0069      0.006      1.113      0.266      -0.005       0.019\n",
      "==============================================================================\n"
     ]
    }
   ],
   "source": [
    "#model2: 加一些控制变量\n",
    "control=[\"IQ\",\"exper\",\"tenure\",\"age\",\"married\",\"black\",\"south\",\"urban\",\"sibs\",\"brthord\",\"meduc\",\"feduc\"]\n",
    "model_2=smf.ols('lhwage~educ+'+'+'.join(control),data=wage).fit()\n",
    "print(model_2.summary().tables[1])"
   ]
  },
  {
   "cell_type": "code",
   "execution_count": null,
   "metadata": {},
   "outputs": [],
   "source": []
  }
 ],
 "metadata": {
  "kernelspec": {
   "display_name": "Python 3",
   "language": "python",
   "name": "python3"
  },
  "language_info": {
   "codemirror_mode": {
    "name": "ipython",
    "version": 3
   },
   "file_extension": ".py",
   "mimetype": "text/x-python",
   "name": "python",
   "nbconvert_exporter": "python",
   "pygments_lexer": "ipython3",
   "version": "3.7.0"
  }
 },
 "nbformat": 4,
 "nbformat_minor": 2
}
